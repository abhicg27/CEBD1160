{
 "cells": [
  {
   "cell_type": "code",
   "execution_count": 7,
   "metadata": {
    "scrolled": true
   },
   "outputs": [
    {
     "name": "stdout",
     "output_type": "stream",
     "text": [
      "The type of value 1 is <class 'int'>\n",
      "The type of value 3.14 is <class 'float'>\n",
      "The type of value Big Data! is <class 'str'>\n",
      "The type of value Big Data! is <class 'str'>\n",
      "The type of value True is <class 'bool'>\n",
      "The type of value False is <class 'bool'>\n",
      "The type of value [1, 2, 'intruder', 3] is <class 'list'>\n"
     ]
    }
   ],
   "source": [
    "'''\n",
    "Basic\n",
    "1. Check what's the type of the following values in the python:  \n",
    "○ 1  ○ 3.14  ○ \"Big Data!\"  ○ 'Big Data!'  ○ True  ○ False  ○ [1,2,\"intruder\",3]  \n",
    "'''\n",
    "\n",
    "typelist = [1  , 3.14  , \"Big Data!\"  , 'Big Data!'  , True  , False  , [1,2,\"intruder\",3]]\n",
    "for index in range(len(typelist)):\n",
    "    print('The type of value',typelist[index], 'is' , type(typelist[index]))"
   ]
  },
  {
   "cell_type": "code",
   "execution_count": 8,
   "metadata": {},
   "outputs": [
    {
     "name": "stdout",
     "output_type": "stream",
     "text": [
      "1\n",
      "2\n",
      "Fizz\n",
      "4\n",
      "Buzz\n",
      "Fizz\n",
      "7\n",
      "8\n",
      "Fizz\n",
      "Buzz\n",
      "11\n",
      "Fizz\n",
      "13\n",
      "14\n",
      "FizzBuzz\n",
      "16\n",
      "17\n",
      "Fizz\n",
      "19\n",
      "Buzz\n",
      "Fizz\n",
      "22\n",
      "23\n",
      "Fizz\n",
      "Buzz\n",
      "26\n",
      "Fizz\n",
      "28\n",
      "29\n",
      "FizzBuzz\n",
      "31\n",
      "32\n",
      "Fizz\n",
      "34\n",
      "Buzz\n",
      "Fizz\n",
      "37\n",
      "38\n",
      "Fizz\n",
      "Buzz\n",
      "41\n",
      "Fizz\n",
      "43\n",
      "44\n",
      "FizzBuzz\n",
      "46\n",
      "47\n",
      "Fizz\n",
      "49\n",
      "Buzz\n",
      "Fizz\n",
      "52\n",
      "53\n",
      "Fizz\n",
      "Buzz\n",
      "56\n",
      "Fizz\n",
      "58\n",
      "59\n",
      "FizzBuzz\n",
      "61\n",
      "62\n",
      "Fizz\n",
      "64\n",
      "Buzz\n",
      "Fizz\n",
      "67\n",
      "68\n",
      "Fizz\n",
      "Buzz\n",
      "71\n",
      "Fizz\n",
      "73\n",
      "74\n",
      "FizzBuzz\n",
      "76\n",
      "77\n",
      "Fizz\n",
      "79\n",
      "Buzz\n",
      "Fizz\n",
      "82\n",
      "83\n",
      "Fizz\n",
      "Buzz\n",
      "86\n",
      "Fizz\n",
      "88\n",
      "89\n",
      "FizzBuzz\n",
      "91\n",
      "92\n",
      "Fizz\n",
      "94\n",
      "Buzz\n",
      "Fizz\n",
      "97\n",
      "98\n",
      "Fizz\n",
      "Buzz\n"
     ]
    }
   ],
   "source": [
    "'''\n",
    "2. Write a script that prints the integers from 1 to 100. For multiples of three print \"Fizz\" instead , \n",
    "and for the multiples of five print \"Buzz\". For numbers which are multiples of both print \"FizzBuzz\". \n",
    "'''\n",
    "\n",
    "for num in range(1,101):\n",
    "    if num%3==0 and num%5==0: \n",
    "        print('FizzBuzz')\n",
    "    elif num%3==0: \n",
    "        print('Fizz')\n",
    "    elif num%5==0: \n",
    "        print('Buzz')\n",
    "    else: \n",
    "        print(num)"
   ]
  },
  {
   "cell_type": "code",
   "execution_count": 1,
   "metadata": {},
   "outputs": [
    {
     "name": "stdout",
     "output_type": "stream",
     "text": [
      "Enter the range for number of elements in the list :4\n",
      "Enter number :2\n",
      "Enter number :3\n",
      "Enter number :7\n",
      "Enter number :1\n",
      "The list of entered numbers are : [2, 3, 7, 1]\n",
      "Max value : 7\n",
      "Min value : 1\n"
     ]
    }
   ],
   "source": [
    "'''\n",
    "3a. Could you find the maximum or minimum integer value in a list. \n",
    "'''\n",
    "\n",
    "num_list=[]\n",
    "ip_range=int(input(\"Enter the range for number of elements in the list :\"))\n",
    "\n",
    "for ind in range(ip_range):\n",
    "    ip_num=int(input(\"Enter number :\"))\n",
    "    num_list.append(ip_num)\n",
    "\n",
    "print(\"The list of entered numbers are :\", num_list)\n",
    "\n",
    "print(\"Max value :\",max(num_list))\n",
    "print(\"Min value :\",min(num_list))"
   ]
  },
  {
   "cell_type": "code",
   "execution_count": 3,
   "metadata": {},
   "outputs": [
    {
     "name": "stdout",
     "output_type": "stream",
     "text": [
      "The sum of multiples of 3 or 5 for range(1,1000) is 233168\n"
     ]
    }
   ],
   "source": [
    "'''\n",
    "3b. If we list all the natural numbers below 10 that are multiples of 3 or 5, we get 3, 5, 6 and 9. \n",
    "The sum of these multiples is 23. Find the sum of all the multiples of 3 or 5 below 1000. \n",
    "'''\n",
    "\n",
    "sum=0\n",
    "for num in range(1,1000):\n",
    "    if num%3==0 or num%5==0:\n",
    "        sum+=num\n",
    "    else:\n",
    "        continue\n",
    "print('The sum of multiples of 3 or 5 for range(1,1000) is', sum)"
   ]
  },
  {
   "cell_type": "code",
   "execution_count": 2,
   "metadata": {},
   "outputs": [
    {
     "name": "stdout",
     "output_type": "stream",
     "text": [
      "Enter any string with vowels :Abhilash AEIOU\n",
      "The input String is: Abhilash AEIOU\n",
      "The vowel stripped String is: bhlsh \n"
     ]
    }
   ],
   "source": [
    "'''\n",
    "4. Write a script that takes out all the vowels and response with shortened version the string. \n",
    "Your script should not be case sensitive. \n",
    "'''\n",
    "\n",
    "vowels=('aeiou')\n",
    "input_str1=input('Enter any string with vowels :')\n",
    "\n",
    "print('The input String is: ' + input_str1)\n",
    "\n",
    "non_vowel_str=''\n",
    "\n",
    "for index in range(0,len(input_str1)):\n",
    "# changing to lower case to handle both cases\n",
    "    if input_str1[index].lower() in vowels:\n",
    "        continue\n",
    "    else:\n",
    "        non_vowel_str+=input_str1[index]\n",
    "    \n",
    "print('The vowel stripped String is: ' + non_vowel_str)"
   ]
  },
  {
   "cell_type": "code",
   "execution_count": 4,
   "metadata": {},
   "outputs": [
    {
     "name": "stdout",
     "output_type": "stream",
     "text": [
      "Enter any string with vowels :aeiouAEIOUsdfg\n",
      "The input String is: aeiouAEIOUsdfg\n",
      "The vowel stripped String is: sdfg\n"
     ]
    }
   ],
   "source": [
    "# Another approach using join. found the code in google.\n",
    "\n",
    "input_str2=input('Enter any string with vowels :')\n",
    "print('The input String is: ' + input_str2)\n",
    "vowels=('aeiouAEIOU')\n",
    "\n",
    "new_str=''.join(x for x in input_str2 if x not in vowels)\n",
    "print('The vowel stripped String is: ' + new_str)\n"
   ]
  },
  {
   "cell_type": "code",
   "execution_count": 36,
   "metadata": {},
   "outputs": [
    {
     "name": "stdout",
     "output_type": "stream",
     "text": [
      "Enter a string :Babak Khosravifar\n",
      "Sorted by alphabetical order\n",
      "[{'a': 4, 'b': 2, 'f': 1, 'h': 1, 'i': 1, 'k': 2, 'o': 1, 'r': 2, 's': 1, 'v': 1}]\n",
      "Sorted by the repetition of characters in descending order\n",
      "[{'a': 4, 'k': 2, 'b': 2, 'r': 2, 's': 1, 'i': 1, 'f': 1, 'o': 1, 'v': 1, 'h': 1}]\n"
     ]
    }
   ],
   "source": [
    "'''\n",
    "Advanced\n",
    "1. Write a Python program to count the number of characters (character frequency) in a string.\n",
    "The expected results are two options: [Example: Babak Khosravifar]\n",
    "○ Sorted by alphabetical order [{‘a’:4, ‘b’:2, ‘f’:1, ‘i’:1, …..}]\n",
    "○ Sorted by the repetition of characters in descending order [{‘a’:4, ‘b’:2, ‘k’:2, ‘r’:2,\n",
    "…..}]\n",
    "'''\n",
    "\n",
    "input_str3=input('Enter a string :')\n",
    "input_str3_lower=input_str3.lower()\n",
    "input_str3_replace=input_str3_lower.replace(' ','')\n",
    "\n",
    "input_str3_dict={}\n",
    "\n",
    "for ind in set(input_str3_replace):\n",
    "    input_str3_cnt=input_str3_replace.count(ind)\n",
    "    input_str3_dict[ind]=input_str3_cnt\n",
    "\n",
    "# ○ Sorted by alphabetical order [{‘a’:4, ‘b’:2, ‘f’:1, (should be h: 1), ‘i’:1, …..}]\n",
    "\n",
    "input_str4_dict={}\n",
    "\n",
    "print('Sorted by alphabetical order')\n",
    "#print(sorted(input_str3_dict.items()))\n",
    "for i in sorted(input_str3_dict.keys()):\n",
    "    val=input_str3_dict.get(i)\n",
    "    input_str4_dict[i]=val\n",
    "print('['+ str(input_str4_dict) + ']')\n",
    "\n",
    "# ○ Sorted by the repetition of characters in descending order [{‘a’:4, ‘b’:2, ‘k’:2, ‘r’:2,…..}]\n",
    "\n",
    "input_str5_dict={}\n",
    "\n",
    "print('Sorted by the repetition of characters in descending order')\n",
    "for i in sorted(input_str3_dict.values(),reverse=True):\n",
    "    for j in input_str3_dict.keys():\n",
    "        if input_str3_dict.get(j)==i:\n",
    "            input_str5_dict[j]=i\n",
    "print('['+ str(input_str5_dict) + ']')"
   ]
  },
  {
   "cell_type": "code",
   "execution_count": 21,
   "metadata": {},
   "outputs": [
    {
     "name": "stdout",
     "output_type": "stream",
     "text": [
      "Enter the sentence :This is a man\n",
      "The word 'is' occurs 2 times.\n",
      "The word 'a' occurs 2 times.\n",
      "The word 'This' occurs 1 times.\n",
      "The word 'man' occurs 1 times.\n"
     ]
    }
   ],
   "source": [
    "'''\n",
    "2. Write a Python program to count the occurrences of each word in a given sentence.\n",
    "'''\n",
    "\n",
    "input_str4=input(\"Enter the sentence :\")\n",
    "\n",
    "for ind in set(input_str4.split( )):\n",
    "    print(\"The word '\" + ind + \"' occurs \" + str(input_str4.count(ind)) + \" times.\")\n",
    "\n",
    "# The draw back of the above approach i see is if there are any words which are part of any other word \n",
    "# then those are also counted twice"
   ]
  },
  {
   "cell_type": "code",
   "execution_count": 3,
   "metadata": {},
   "outputs": [
    {
     "name": "stdout",
     "output_type": "stream",
     "text": [
      "Enter comma seperated sequence of words :abc ,abc , abc,abc,abc\n",
      "The unique words in sorted form : ['abc']\n"
     ]
    }
   ],
   "source": [
    "'''\n",
    "3. Write a Python program that accepts a comma separated sequence of words as input and\n",
    "prints the unique words in sorted form (alphanumerically)\n",
    "'''\n",
    "\n",
    "input_str5=input('Enter comma seperated sequence of words :')\n",
    "input_str_replace=input_str5.replace(' ','')\n",
    "input_str_set_sorted=sorted(set(input_str_replace.split(',')))\n",
    "\n",
    "print('The unique words in sorted form :',input_str_set_sorted)"
   ]
  },
  {
   "cell_type": "code",
   "execution_count": 34,
   "metadata": {},
   "outputs": [
    {
     "name": "stdout",
     "output_type": "stream",
     "text": [
      "Enter the number of items for first list (4 items minimum) :4\n",
      "Enter number :2\n",
      "Enter number :3\n",
      "Enter number :8\n",
      "Enter number :1\n",
      "Enter the number of items for second list (4 items minimum) :10\n",
      "Enter number :3\n",
      "Enter number :4\n",
      "Enter number :13\n",
      "Enter number :1\n",
      "Enter number :1\n",
      "Enter number :1\n",
      "Enter number :1\n",
      "Enter number :1\n",
      "Enter number :1\n",
      "Enter number :1\n",
      "The Sorted list is : [1, 2, 3, 4, 8, 13]\n"
     ]
    }
   ],
   "source": [
    "'''\n",
    "Reach\n",
    "1. Write a program that reads two lists of numbers (4 items minimum) and merge them by\n",
    "sorting them out ignoring duplicates\n",
    "'''\n",
    "list1=[]\n",
    "list2=[]\n",
    "\n",
    "flag1=True\n",
    "while flag1:\n",
    "    range1=int(input('Enter the number of items for first list (4 items minimum) :'))\n",
    "    if range1<4:\n",
    "        print('Enter mininum 4 as the value :')\n",
    "    else:\n",
    "        flag1=False\n",
    "    \n",
    "for first in range(range1):\n",
    "    num=int(input('Enter number :'))\n",
    "    list1.append(num)\n",
    "\n",
    "flag2=True\n",
    "while flag2:\n",
    "    range2=int(input('Enter the number of items for second list (4 items minimum) :'))\n",
    "    if range2<4:\n",
    "        print('Enter mininum 4 as the value :')\n",
    "    else:\n",
    "        flag2=False\n",
    "        \n",
    "for sec in range(range2):\n",
    "    num2=int(input('Enter number :'))\n",
    "    list2.append(num2)\n",
    "\n",
    "combined_list=list1+list2\n",
    "combined_set=set(combined_list)\n",
    "new_set=list(combined_set)\n",
    "print(\"The Sorted list is :\", sorted(new_set))\n",
    "\n"
   ]
  },
  {
   "cell_type": "code",
   "execution_count": 37,
   "metadata": {},
   "outputs": [
    {
     "name": "stdout",
     "output_type": "stream",
     "text": [
      "[2, 3, 4, 5, 13]\n",
      "[2, 3, 4, 5, 13]\n",
      "[2, 3, 4, 5, 13]\n"
     ]
    }
   ],
   "source": [
    "'''\n",
    "2. Improve the previous code by ignoring the ones that could be written as a linear combination\n",
    "of any other two numbers (13=2*5+1*3), so if 3 and 5 are there, you should drop 13 if seen.\n",
    "'''\n",
    "\n",
    "# input_set=[2, 3, 4, 5, 13]\n",
    "# input_set_upt=list(input_set)\n",
    "# print(input_set)\n",
    "# print(input_set_upt)\n",
    "\n",
    "# for x in input_set:\n",
    "#     for y in input_set:\n",
    "#         if x==y:\n",
    "#             continue\n",
    "#         elif str(1*int(x)+2*int(y)) in input_set:\n",
    "#             input_set_upt.remove(1*int(x)+2*int(y))\n",
    "#             continue\n",
    "#         else:\n",
    "#             continue\n",
    "\n",
    "# print(input_set_upt)"
   ]
  },
  {
   "cell_type": "code",
   "execution_count": null,
   "metadata": {},
   "outputs": [],
   "source": []
  }
 ],
 "metadata": {
  "kernelspec": {
   "display_name": "Python 3",
   "language": "python",
   "name": "python3"
  },
  "language_info": {
   "codemirror_mode": {
    "name": "ipython",
    "version": 3
   },
   "file_extension": ".py",
   "mimetype": "text/x-python",
   "name": "python",
   "nbconvert_exporter": "python",
   "pygments_lexer": "ipython3",
   "version": "3.7.3"
  }
 },
 "nbformat": 4,
 "nbformat_minor": 2
}
