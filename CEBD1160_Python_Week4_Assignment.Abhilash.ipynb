{
 "cells": [
  {
   "cell_type": "code",
   "execution_count": 42,
   "metadata": {},
   "outputs": [
    {
     "name": "stdout",
     "output_type": "stream",
     "text": [
      "The Original list [1, 1, 2, 3, 1, 4, 5, 8, 9, 5, 6, 4, 3, 3, 3, 9, 9]\n",
      "The list minus all the duplicates [1, 2, 3, 4, 5, 8, 9, 6]\n"
     ]
    },
    {
     "data": {
      "text/plain": [
       "[1, 2, 3, 4, 5, 6, 8, 9]"
      ]
     },
     "execution_count": 42,
     "metadata": {},
     "output_type": "execute_result"
    }
   ],
   "source": [
    "'''\n",
    "Week 4 Exercises:\n",
    "\n",
    "Basic:\n",
    "1. Write a program (function!) that takes a list and returns a new list that contains all the\n",
    "elements of the first list minus all the duplicates.\n",
    "'''\n",
    "\n",
    "def remove_dup(list1):\n",
    "    list2=[]\n",
    "    for num1 in list1:\n",
    "        if num1 not in list2:\n",
    "            list2.append(num1)\n",
    "\n",
    "    print('The Original list',list1)\n",
    "    print('The list minus all the duplicates',list2)\n",
    "\n",
    "list_input=[1,1,2,3,1,4,5,8,9,5,6,4,3,3,3,9,9]\n",
    "remove_dup(list_input)\n",
    "\n",
    "# Alternate way is to utilize the set type to remove the duplicates\n",
    "def remove_dupv2(list1):\n",
    "    return(list(set(list1)))\n",
    "\n",
    "remove_dupv2(list_input)"
   ]
  },
  {
   "cell_type": "code",
   "execution_count": 53,
   "metadata": {},
   "outputs": [
    {
     "name": "stdout",
     "output_type": "stream",
     "text": [
      "True\n",
      "False\n",
      "True\n",
      "False\n"
     ]
    }
   ],
   "source": [
    "'''\n",
    "2. Write a function that takes an ordered list of numbers (a list where the elements are in\n",
    "order from smallest to largest) and another number. The function decides whether or not\n",
    "the given number is inside the list and returns (then prints) an appropriate boolean.\n",
    "'''\n",
    "\n",
    "def find_num_in_list(o_list,f_num):\n",
    "    for num1 in o_list:\n",
    "        if num1 == f_num:\n",
    "            return True\n",
    "    return False\n",
    "\n",
    "in_list=[10,20,30,40,50,60,70,80,90]\n",
    "\n",
    "print(find_num_in_list(in_list,40))\n",
    "print(find_num_in_list(in_list,140))\n",
    "print(find_num_in_list(in_list,10))\n",
    "print(find_num_in_list(in_list,44))"
   ]
  },
  {
   "cell_type": "code",
   "execution_count": 1,
   "metadata": {},
   "outputs": [
    {
     "name": "stdout",
     "output_type": "stream",
     "text": [
      "[4, 16, 36, 64, 100]\n"
     ]
    }
   ],
   "source": [
    "'''\n",
    "3. Let’s say I give you a list saved in a variable: a = [1, 4, 9, 16, 25, 36, 49, 64, 81, 100].\n",
    "Write one line of Python that takes this list a and makes a new list that has only the even\n",
    "elements of this list in it.\n",
    "'''\n",
    "\n",
    "a = [1, 4, 9, 16, 25, 36, 49, 64, 81, 100]\n",
    "#found in google\n",
    "print([i for i in a if i%2==0])"
   ]
  },
  {
   "cell_type": "code",
   "execution_count": 7,
   "metadata": {
    "scrolled": true
   },
   "outputs": [
    {
     "name": "stdout",
     "output_type": "stream",
     "text": [
      "The function will assit in guessing the number between 0 to 200\n",
      "Guess the hidden number:30\n",
      "Enter lower than 30\n",
      "Guess the hidden number:15\n",
      "Enter lower than 15\n",
      "Guess the hidden number:11\n",
      "Bingo\n",
      "The random number is 11\n",
      "You guessed the correct number in 3 change !!!\n"
     ]
    }
   ],
   "source": [
    "'''\n",
    "Advanced\n",
    "1. The function picks a number between 0 and 200. Then you should input different values until you guess the hidden \n",
    "number correctly. The function would return “way upper”,“upper”, “lower”, “way lower”, “close”, ”bigo”. It’s your \n",
    "choice to pick the ranges you want to use for responses. The success measure is how intuitive the communication is\n",
    "between the user and the function.\n",
    "'''\n",
    "\n",
    "import random\n",
    "# Generate a random number in the given range\n",
    "ran_num=random.randint(0,200)\n",
    "\n",
    "# Function to get input from user\n",
    "def get_input_num():\n",
    "    return int(input('Guess the hidden number:'))\n",
    "\n",
    "# Function to guess number\n",
    "def num_guess_fun():\n",
    "    flag=True\n",
    "    chance_cnt=0\n",
    "    chk_low_val=0\n",
    "    low_val=0\n",
    "    chk_high_val=200\n",
    "    high_val=200\n",
    "    while flag:\n",
    "        ip_num=get_input_num()\n",
    "        chance_cnt+=1\n",
    "        mid_val=(low_val+high_val)/2\n",
    "        if chk_low_val>ip_num or ip_num>chk_high_val:\n",
    "            print('The input value is beyond the range of 0 to 200')\n",
    "        elif ip_num==ran_num:\n",
    "            print('Bingo')\n",
    "            print('The random number is',str(ran_num))\n",
    "            print('You guessed the correct number in',str(chance_cnt),'chance !!!')\n",
    "            flag=False\n",
    "        elif ip_num-ran_num==1 or ip_num-ran_num==-1:\n",
    "            print('Close !!!, Guess + or - one number')\n",
    "        elif ip_num>mid_val:\n",
    "            low_val=mid_val+1\n",
    "            if ip_num-round((mid_val/2))>ran_num:\n",
    "                print('Enter way lower than',str(ip_num-round((mid_val/2))))\n",
    "            elif ip_num>ran_num:\n",
    "                print('Enter lower than',str(ip_num))\n",
    "            elif ip_num+round((mid_val/2))<ran_num:\n",
    "                print('Enter way upper than',str(ip_num+round((mid_val/2))))\n",
    "            elif ip_num<ran_num:\n",
    "                print('Enter upper than',str(ip_num))\n",
    "        elif ip_num<mid_val:\n",
    "            high_val=mid_val-1\n",
    "            if ip_num-round((mid_val/2))>ran_num:\n",
    "                print('Enter way lower than',str(ip_num-round((mid_val/2))))\n",
    "            elif ip_num>ran_num:\n",
    "                print('Enter lower than',str(ip_num))\n",
    "            elif ip_num+round((mid_val/2))<ran_num:\n",
    "                print('Enter way upper than',str(ip_num+round((mid_val/2))))\n",
    "            elif ip_num<ran_num:\n",
    "                print('Enter upper than',str(ip_num))\n",
    "        elif ran_num<mid_val: # handle the mid value scenario\n",
    "            high_val=mid_val-1\n",
    "            print('Enter lower than',str(mid_val))\n",
    "        else:\n",
    "            low_val=mid_val+1\n",
    "            print('Enter upper than',str(mid_val))\n",
    "            \n",
    "                          \n",
    "print(\"The function will assit in guessing the number between 0 to 200\")\n",
    "num_guess_fun()"
   ]
  },
  {
   "cell_type": "code",
   "execution_count": 2,
   "metadata": {},
   "outputs": [
    {
     "name": "stdout",
     "output_type": "stream",
     "text": [
      "Is the value 100\n",
      "Provide your comments for value as \"high\" , \"low\" , \"match\" :low\n",
      "Is the value 150\n",
      "Provide your comments for value as \"high\" , \"low\" , \"match\" :low\n",
      "Is the value 176\n",
      "Provide your comments for value as \"high\" , \"low\" , \"match\" :low\n",
      "Is the value 188\n",
      "Provide your comments for value as \"high\" , \"low\" , \"match\" :high\n",
      "Is the value 182\n",
      "Provide your comments for value as \"high\" , \"low\" , \"match\" :high\n",
      "Is the value 179\n",
      "Provide your comments for value as \"high\" , \"low\" , \"match\" :low\n",
      "Is the value 180\n",
      "Provide your comments for value as \"high\" , \"low\" , \"match\" :match\n",
      "The correct number is: 180 , guessed in 7 chances\n"
     ]
    }
   ],
   "source": [
    "'''\n",
    "2. Now do the reverse and you guide the program to get close to (and eventually guess)\n",
    "your number in mind.\n",
    "'''\n",
    "\n",
    "# Function to get comment from user\n",
    "def get_num_status():\n",
    "    return input('Provide your comments for value as \"high\" , \"low\" , \"match\" :')\n",
    "\n",
    "def fun_to_guess_the_num(low,high):\n",
    "    low_val1=low\n",
    "    high_val1=high\n",
    "    mid_val1=(low_val1+high_val1)/2\n",
    "    flag=True\n",
    "    guess_counter=0\n",
    "    while flag:\n",
    "        mid_val1=round((low_val1+high_val1)/2)\n",
    "        guess_counter+=1\n",
    "        print('Is the value',str(mid_val1))\n",
    "        input_status=get_num_status()\n",
    "        \n",
    "        if input_status=='match':\n",
    "            flag=False\n",
    "            print('The correct number is:',str(mid_val1),', guessed in',guess_counter,'chances')\n",
    "            \n",
    "        elif input_status=='high':\n",
    "            high_val1=mid_val1-1\n",
    "        elif input_status=='low':\n",
    "            low_val1=mid_val1+1\n",
    "            \n",
    "fun_to_guess_the_num(0,200)        "
   ]
  },
  {
   "cell_type": "code",
   "execution_count": 1,
   "metadata": {},
   "outputs": [
    {
     "name": "stdout",
     "output_type": "stream",
     "text": [
      "The function will assit in guessing the number between 0 to 30\n",
      "Guess the hidden number:13\n",
      "Enter way upper than 21\n",
      "Guess the hidden number:28\n",
      "The hidden number is even !!!\n",
      "The hidden number is divisible by 3 !!!\n",
      "Enter lower than 28\n",
      "Guess the hidden number:24\n",
      "Bingo\n",
      "The random number is 24\n",
      "You guessed the correct number in 3 chance !!!\n"
     ]
    }
   ],
   "source": [
    "'''\n",
    "3. Now improve your code by limiting the guesses and let the function to guide you after the\n",
    "second guess that as long as the reply is not way up/low. The function can tell you the\n",
    "number is even/odd and/or divisible by 3. Try to compare two functions over one chosen\n",
    "number and count the guesses,\n",
    "'''\n",
    "\n",
    "#import random\n",
    "# Generate a random number in the given range\n",
    "#ran_num=random.randint(0,200)\n",
    "\n",
    "# Function to get input from user\n",
    "def get_input_num_v2():\n",
    "    return int(input('Guess the hidden number:'))\n",
    "\n",
    "# Function to guess number\n",
    "def num_guess_fun_v2(v_ran_num,v_low,v_high):\n",
    "    ran_num=v_ran_num\n",
    "    flag=True\n",
    "    chance_cnt=0\n",
    "    chk_low_val=v_low\n",
    "    low_val=v_low\n",
    "    chk_high_val=v_high\n",
    "    high_val=v_high\n",
    "    while flag:\n",
    "        ip_num=get_input_num_v2()\n",
    "        chance_cnt+=1\n",
    "        mid_val=(low_val+high_val)/2\n",
    "        \n",
    "        if chance_cnt==2:\n",
    "            if ran_num%2==0:\n",
    "                print(\"The hidden number is even !!!\")\n",
    "            else:\n",
    "                print(\"The hidden number is odd !!!\")\n",
    "            \n",
    "            if ran_num%3==0:\n",
    "                print(\"The hidden number is divisible by 3 !!!\")\n",
    "        \n",
    "        if chk_low_val>ip_num or ip_num>chk_high_val:\n",
    "            print('The input value is beyond the range of 0 to 200')\n",
    "        elif ip_num==ran_num:\n",
    "            print('Bingo')\n",
    "            print('The random number is',str(ran_num))\n",
    "            print('You guessed the correct number in',str(chance_cnt),'chance !!!')\n",
    "            flag=False\n",
    "        elif ip_num-ran_num==1 or ip_num-ran_num==-1:\n",
    "            print('Close !!!, Guess + or - one number')\n",
    "        elif ip_num>mid_val:\n",
    "            low_val=mid_val+1\n",
    "            if ip_num-round((mid_val/2))>ran_num:\n",
    "                print('Enter way lower than',str(ip_num-round((mid_val/2))))\n",
    "            elif ip_num>ran_num:\n",
    "                print('Enter lower than',str(ip_num))\n",
    "            elif ip_num+round((mid_val/2))<ran_num:\n",
    "                print('Enter way upper than',str(ip_num+round((mid_val/2))))\n",
    "            elif ip_num<ran_num:\n",
    "                print('Enter upper than',str(ip_num))\n",
    "        elif ip_num<mid_val:\n",
    "            high_val=mid_val-1\n",
    "            if ip_num-round((mid_val/2))>ran_num:\n",
    "                print('Enter way lower than',str(ip_num-round((mid_val/2))))\n",
    "            elif ip_num>ran_num:\n",
    "                print('Enter lower than',str(ip_num))\n",
    "            elif ip_num+round((mid_val/2))<ran_num:\n",
    "                print('Enter way upper than',str(ip_num+round((mid_val/2))))\n",
    "            elif ip_num<ran_num:\n",
    "                print('Enter upper than',str(ip_num))\n",
    "        elif ran_num<mid_val: # handle the mid value scenario\n",
    "            high_val=mid_val-1\n",
    "            print('Enter lower than',str(mid_val))\n",
    "        else:\n",
    "            low_val=mid_val+1\n",
    "            print('Enter upper than',str(mid_val))\n",
    "            \n",
    "                          \n",
    "print(\"The function will assit in guessing the number between 0 to 30\")\n",
    "num_guess_fun_v2(24,0,30) # num_guess_fun(hidden number, range low value, range high value)"
   ]
  },
  {
   "cell_type": "code",
   "execution_count": null,
   "metadata": {},
   "outputs": [],
   "source": [
    "'''\n",
    "The above code with more clues on even or odd or divisibility by 3 reduce the guess number.\n",
    "'''"
   ]
  }
 ],
 "metadata": {
  "kernelspec": {
   "display_name": "Python 3",
   "language": "python",
   "name": "python3"
  },
  "language_info": {
   "codemirror_mode": {
    "name": "ipython",
    "version": 3
   },
   "file_extension": ".py",
   "mimetype": "text/x-python",
   "name": "python",
   "nbconvert_exporter": "python",
   "pygments_lexer": "ipython3",
   "version": "3.7.3"
  }
 },
 "nbformat": 4,
 "nbformat_minor": 2
}
